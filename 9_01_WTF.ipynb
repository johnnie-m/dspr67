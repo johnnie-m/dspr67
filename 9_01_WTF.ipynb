{
 "cells": [
  {
   "cell_type": "code",
   "execution_count": 16,
   "metadata": {},
   "outputs": [],
   "source": [
    "from numba import jit, cuda\n",
    "import numpy as np"
   ]
  },
  {
   "cell_type": "code",
   "execution_count": 17,
   "metadata": {},
   "outputs": [],
   "source": [
    "# Setting up random range:\n",
    "minvalue = 1\n",
    "maxvalue = 100"
   ]
  },
  {
   "cell_type": "code",
   "execution_count": 18,
   "metadata": {},
   "outputs": [],
   "source": [
    "def predict_number(number:int=1) -> int:\n",
    "    \n",
    "    # Setting up initial guessing range bounds: \n",
    "    lowerLimit = minvalue\n",
    "    upperLimit = maxvalue\n",
    "    \n",
    "    count = 0 \n",
    "    \n",
    "    # The number to seek for:\n",
    "    # (Un)quote the next line to fix(reset) random seed\n",
    "    #np.random.seed(1)\n",
    "    number = np.random.randint(minvalue, maxvalue)\n",
    "    \n",
    "    # First try - the middle of the range:\n",
    "    predict_number = int(upperLimit + lowerLimit) / 2\n",
    "            \n",
    "    while True:\n",
    "        \n",
    "        if predict_number > number:\n",
    "            count += 1\n",
    "            #print(number, lowerLimit, upperLimit, predict_number)\n",
    "            # Moving the RIGHT guessing range bound\n",
    "            # to previous guess value      \n",
    "            upperLimit = predict_number\n",
    "            predict_number = int((upperLimit + lowerLimit) / 2)                   \n",
    "      \n",
    "        elif predict_number < number:\n",
    "            count += 1\n",
    "            #print(number, lowerLimit, upperLimit, predict_number)\n",
    "            # Moving the LEFT guessing range limit\n",
    "            # to previous guess value       \n",
    "            lowerLimit = predict_number\n",
    "            predict_number = int((upperLimit + lowerLimit) / 2)            \n",
    "            \n",
    "        else:\n",
    "            # Exit the cycle with the number guessed \n",
    "            break\n",
    "    \n",
    "    return count"
   ]
  },
  {
   "cell_type": "code",
   "execution_count": 19,
   "metadata": {},
   "outputs": [],
   "source": [
    "\n",
    "def average_score(predict_number):    \n",
    "    #Finds average number of tries in 1000 runs   \n",
    "        \n",
    "    # Array of 1000 random numbers to be guessed:\n",
    "    # (Un)quote the next line to fix(reset) random seed\n",
    "    #np.random.seed(1)\n",
    "    random_array = np.random.randint(minvalue, maxvalue, size=(100))\n",
    "    \n",
    "    # Applying prediction func to random array:\n",
    "    count_array = list(map(predict_number, random_array))\n",
    "    \n",
    "    # Average number of tries:\n",
    "    score = int(np.mean(count_array))\n",
    "    print(f'Your method finds the number in: {score} tries at an average')\n",
    "    return score"
   ]
  },
  {
   "cell_type": "code",
   "execution_count": 20,
   "metadata": {},
   "outputs": [
    {
     "ename": "KeyboardInterrupt",
     "evalue": "",
     "output_type": "error",
     "traceback": [
      "\u001b[0;31m---------------------------------------------------------------------------\u001b[0m",
      "\u001b[0;31mKeyboardInterrupt\u001b[0m                         Traceback (most recent call last)",
      "\u001b[0;32m<ipython-input-20-a79dfd1c800c>\u001b[0m in \u001b[0;36m<module>\u001b[0;34m\u001b[0m\n\u001b[0;32m----> 1\u001b[0;31m \u001b[0maverage_score\u001b[0m\u001b[0;34m(\u001b[0m\u001b[0mpredict_number\u001b[0m\u001b[0;34m)\u001b[0m\u001b[0;34m\u001b[0m\u001b[0;34m\u001b[0m\u001b[0m\n\u001b[0m",
      "\u001b[0;32m<ipython-input-19-0a10af436506>\u001b[0m in \u001b[0;36maverage_score\u001b[0;34m(predict_number)\u001b[0m\n\u001b[1;32m      8\u001b[0m \u001b[0;34m\u001b[0m\u001b[0m\n\u001b[1;32m      9\u001b[0m     \u001b[0;31m# Applying prediction func to random array:\u001b[0m\u001b[0;34m\u001b[0m\u001b[0;34m\u001b[0m\u001b[0;34m\u001b[0m\u001b[0m\n\u001b[0;32m---> 10\u001b[0;31m     \u001b[0mcount_array\u001b[0m \u001b[0;34m=\u001b[0m \u001b[0mlist\u001b[0m\u001b[0;34m(\u001b[0m\u001b[0mmap\u001b[0m\u001b[0;34m(\u001b[0m\u001b[0mpredict_number\u001b[0m\u001b[0;34m,\u001b[0m \u001b[0mrandom_array\u001b[0m\u001b[0;34m)\u001b[0m\u001b[0;34m)\u001b[0m\u001b[0;34m\u001b[0m\u001b[0;34m\u001b[0m\u001b[0m\n\u001b[0m\u001b[1;32m     11\u001b[0m \u001b[0;34m\u001b[0m\u001b[0m\n\u001b[1;32m     12\u001b[0m     \u001b[0;31m# Average number of tries:\u001b[0m\u001b[0;34m\u001b[0m\u001b[0;34m\u001b[0m\u001b[0;34m\u001b[0m\u001b[0m\n",
      "\u001b[0;32m<ipython-input-18-f194f6ae2188>\u001b[0m in \u001b[0;36mpredict_number\u001b[0;34m(number)\u001b[0m\n\u001b[1;32m     31\u001b[0m             \u001b[0;31m# to previous guess value\u001b[0m\u001b[0;34m\u001b[0m\u001b[0;34m\u001b[0m\u001b[0;34m\u001b[0m\u001b[0m\n\u001b[1;32m     32\u001b[0m             \u001b[0mlowerLimit\u001b[0m \u001b[0;34m=\u001b[0m \u001b[0mpredict_number\u001b[0m\u001b[0;34m\u001b[0m\u001b[0;34m\u001b[0m\u001b[0m\n\u001b[0;32m---> 33\u001b[0;31m             \u001b[0mpredict_number\u001b[0m \u001b[0;34m=\u001b[0m \u001b[0mint\u001b[0m\u001b[0;34m(\u001b[0m\u001b[0;34m(\u001b[0m\u001b[0mupperLimit\u001b[0m \u001b[0;34m+\u001b[0m \u001b[0mlowerLimit\u001b[0m\u001b[0;34m)\u001b[0m \u001b[0;34m/\u001b[0m \u001b[0;36m2\u001b[0m\u001b[0;34m)\u001b[0m\u001b[0;34m\u001b[0m\u001b[0;34m\u001b[0m\u001b[0m\n\u001b[0m\u001b[1;32m     34\u001b[0m \u001b[0;34m\u001b[0m\u001b[0m\n\u001b[1;32m     35\u001b[0m         \u001b[0;32melse\u001b[0m\u001b[0;34m:\u001b[0m\u001b[0;34m\u001b[0m\u001b[0;34m\u001b[0m\u001b[0m\n",
      "\u001b[0;31mKeyboardInterrupt\u001b[0m: "
     ]
    }
   ],
   "source": [
    "average_score(predict_number)"
   ]
  }
 ],
 "metadata": {
  "interpreter": {
   "hash": "31f2aee4e71d21fbe5cf8b01ff0e069b9275f58929596ceb00d14d90e3e16cd6"
  },
  "kernelspec": {
   "display_name": "Python 3.8.10 64-bit",
   "language": "python",
   "name": "python3"
  },
  "language_info": {
   "codemirror_mode": {
    "name": "ipython",
    "version": 3
   },
   "file_extension": ".py",
   "mimetype": "text/x-python",
   "name": "python",
   "nbconvert_exporter": "python",
   "pygments_lexer": "ipython3",
   "version": "3.8.8"
  },
  "orig_nbformat": 4
 },
 "nbformat": 4,
 "nbformat_minor": 2
}
