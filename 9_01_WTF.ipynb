{
 "cells": [
  {
   "cell_type": "code",
   "execution_count": null,
   "metadata": {},
   "outputs": [],
   "source": [
    "import sys\n",
    "import numpy as np"
   ]
  },
  {
   "cell_type": "code",
   "execution_count": null,
   "metadata": {},
   "outputs": [],
   "source": [
    "# Setting up random range:\n",
    "minvalue = 1\n",
    "maxvalue = 100"
   ]
  },
  {
   "cell_type": "code",
   "execution_count": null,
   "metadata": {},
   "outputs": [],
   "source": [
    "def predict_number(number:int=1) -> int:\n",
    "    \n",
    "    # Setting up initial guessing range bounds: \n",
    "    lowerLimit = minvalue\n",
    "    upperLimit = maxvalue\n",
    "    \n",
    "    count = 0 \n",
    "    \n",
    "    # The number to seek for:\n",
    "    # (Un)quote the next line to fix(reset) random seed\n",
    "    #np.random.seed(1)\n",
    "    number = np.random.randint(minvalue, maxvalue)\n",
    "    \n",
    "    # First try - the middle of the range:\n",
    "    predict_number = int(upperLimit + lowerLimit) / 2\n",
    "            \n",
    "    while True:\n",
    "        \n",
    "        if predict_number > number:\n",
    "            count += 1\n",
    "            #print(number, lowerLimit, upperLimit, predict_number)\n",
    "            # Moving the RIGHT guessing range bound\n",
    "            # to previous guess value      \n",
    "            upperLimit = predict_number\n",
    "            predict_number = int((upperLimit + lowerLimit) / 2)                   \n",
    "      \n",
    "        elif predict_number < number:\n",
    "            count += 1\n",
    "            #print(number, lowerLimit, upperLimit, predict_number)\n",
    "            # Moving the LEFT guessing range limit\n",
    "            # to previous guess value       \n",
    "            lowerLimit = predict_number\n",
    "            predict_number = int((upperLimit + lowerLimit) / 2)            \n",
    "            \n",
    "        else:\n",
    "            # Exit the cycle with the number guessed \n",
    "            break\n",
    "    \n",
    "    return count"
   ]
  },
  {
   "cell_type": "code",
   "execution_count": null,
   "metadata": {},
   "outputs": [],
   "source": [
    "\n",
    "def average_score(predict_number):    \n",
    "    #Finds average number of tries in 1000 runs   \n",
    "        \n",
    "    # Array of 1000 random numbers to be guessed:\n",
    "    # (Un)quote the next line to fix(reset) random seed\n",
    "    #np.random.seed(1)\n",
    "    random_array = np.random.randint(minvalue, maxvalue, size=(1000))\n",
    "    \n",
    "    # Applying prediction func to random array:\n",
    "    count_array = list(map(predict_number, random_array))\n",
    "    \n",
    "    # Average number of tries:\n",
    "    score = int(np.mean(count_array))\n",
    "    print(f'Your method finds the number in: {score} tries at an average')\n",
    "    return score"
   ]
  },
  {
   "cell_type": "code",
   "execution_count": null,
   "metadata": {},
   "outputs": [],
   "source": [
    "if __name__ == '__main__':\n",
    "    average_score(predict_number)"
   ]
  },
  {
   "cell_type": "code",
   "execution_count": null,
   "metadata": {},
   "outputs": [],
   "source": [
    "sys.exit(0)"
   ]
  }
 ],
 "metadata": {
  "interpreter": {
   "hash": "31f2aee4e71d21fbe5cf8b01ff0e069b9275f58929596ceb00d14d90e3e16cd6"
  },
  "kernelspec": {
   "display_name": "Python 3.8.10 64-bit",
   "language": "python",
   "name": "python3"
  },
  "language_info": {
   "codemirror_mode": {
    "name": "ipython",
    "version": 3
   },
   "file_extension": ".py",
   "mimetype": "text/x-python",
   "name": "python",
   "nbconvert_exporter": "python",
   "pygments_lexer": "ipython3",
   "version": "3.8.8"
  },
  "orig_nbformat": 4
 },
 "nbformat": 4,
 "nbformat_minor": 2
}
